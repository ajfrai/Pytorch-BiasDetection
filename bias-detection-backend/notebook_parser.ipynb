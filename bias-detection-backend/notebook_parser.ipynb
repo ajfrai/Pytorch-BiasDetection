{
 "metadata": {
  "language_info": {
   "codemirror_mode": {
    "name": "ipython",
    "version": 3
   },
   "file_extension": ".py",
   "mimetype": "text/x-python",
   "name": "python",
   "nbconvert_exporter": "python",
   "pygments_lexer": "ipython3",
   "version": "3.8.3-final"
  },
  "orig_nbformat": 2,
  "kernelspec": {
   "name": "python3",
   "display_name": "Python 3"
  }
 },
 "nbformat": 4,
 "nbformat_minor": 2,
 "cells": [
  {
   "cell_type": "code",
   "execution_count": 93,
   "metadata": {},
   "outputs": [],
   "source": [
    "!jupyter nbconvert SuccessfulTest.ipynb --TagRemovePreprocessor.enabled=True --TagRemovePreprocessor.remove_cell_tags=\"['remove']\" --to notebook SuccessfulTest.ipynb\n",
    "\n",
    "import sys\n",
    "sys.stdout = open('output_from_notebook.py', 'w')\n",
    "\n",
    "!jupyter nbconvert --to python 'SuccessfulTest.nbconvert.ipynb' --stdout"
   ]
  }
 ]
}