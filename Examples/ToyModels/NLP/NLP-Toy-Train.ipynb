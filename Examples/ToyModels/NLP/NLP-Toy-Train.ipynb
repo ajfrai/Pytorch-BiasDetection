{
 "cells": [
  {
   "cell_type": "markdown",
   "metadata": {
    "colab_type": "text",
    "id": "qffBounoHs7S"
   },
   "source": [
    "# Import dependencies"
   ]
  },
  {
   "cell_type": "code",
   "execution_count": 2,
   "metadata": {
    "colab": {},
    "colab_type": "code",
    "executionInfo": {
     "elapsed": 3989,
     "status": "ok",
     "timestamp": 1595254807652,
     "user": {
      "displayName": "Abraham Fraifeld",
      "photoUrl": "",
      "userId": "11258493564121748686"
     },
     "user_tz": 240
    },
    "id": "moKVG_x9Hs7W"
   },
   "outputs": [],
   "source": [
    "import sys\n",
    "import time\n",
    "from __future__ import print_function\n",
    "import datetime\n",
    "from torch import nn\n",
    "from torch import from_numpy\n",
    "from torch import optim\n",
    "from torch.autograd import Variable\n",
    "from torch.utils.data import DataLoader\n",
    "from torch.utils.data.dataset import random_split\n",
    "from torch.utils.data import dataset\n",
    "import torch.nn as nn\n",
    "import torch.nn.functional as F\n",
    "import torch\n",
    "import pandas as pd\n",
    "import matplotlib.pyplot as plt\n",
    "from matplotlib.patches import Rectangle\n",
    "import random\n",
    "import re\n",
    "from sklearn.feature_extraction.text import CountVectorizer\n",
    "import numpy as np\n",
    "from nltk.stem import PorterStemmer\n",
    "from nltk.corpus import stopwords\n",
    "#import nltk\n",
    "#nltk.download('stopwords')\n",
    "import string\n",
    "from django.core.validators import URLValidator\n",
    "from django.core.exceptions import ValidationError\n",
    "from collections import defaultdict"
   ]
  },
  {
   "cell_type": "markdown",
   "metadata": {
    "colab_type": "text",
    "id": "7tUCIpTtHs7b"
   },
   "source": [
    "# Import data\n",
    "This corpus of tweets comes from <i> Demographic Dialectal Variation in Social Media: A Case Study of African-American English. Su Lin Blodgett, Lisa Green, and Brendan O'Connor. Proceedings of EMNLP 2016. </i> <a href=\"https://www.aclweb.org/anthology/D16-1120/\"> [pdf] </a> <a href=\"http://slanglab.cs.umass.edu/TwitterAAE/\"> [more info] </a>"
   ]
  },
  {
   "cell_type": "code",
   "execution_count": 3,
   "metadata": {
    "colab": {
     "base_uri": "https://localhost:8080/",
     "height": 122
    },
    "colab_type": "code",
    "executionInfo": {
     "elapsed": 24137,
     "status": "ok",
     "timestamp": 1595254835607,
     "user": {
      "displayName": "Abraham Fraifeld",
      "photoUrl": "",
      "userId": "11258493564121748686"
     },
     "user_tz": 240
    },
    "id": "P_fdPnRpH96S",
    "outputId": "6bcbe6c9-f160-483b-883d-37e1475010dc"
   },
   "outputs": [
    {
     "name": "stdout",
     "output_type": "stream",
     "text": [
      "Go to this URL in a browser: https://accounts.google.com/o/oauth2/auth?client_id=947318989803-6bn6qk8qdgf4n4g3pfee6491hc0brc4i.apps.googleusercontent.com&redirect_uri=urn%3aietf%3awg%3aoauth%3a2.0%3aoob&response_type=code&scope=email%20https%3a%2f%2fwww.googleapis.com%2fauth%2fdocs.test%20https%3a%2f%2fwww.googleapis.com%2fauth%2fdrive%20https%3a%2f%2fwww.googleapis.com%2fauth%2fdrive.photos.readonly%20https%3a%2f%2fwww.googleapis.com%2fauth%2fpeopleapi.readonly\n",
      "\n",
      "Enter your authorization code:\n",
      "··········\n",
      "Mounted at /content/drive\n"
     ]
    }
   ],
   "source": [
    "from google.colab import drive\n",
    "drive.mount('/content/drive')"
   ]
  },
  {
   "cell_type": "code",
   "execution_count": null,
   "metadata": {
    "colab": {},
    "colab_type": "code",
    "id": "-_7qZCUHHs7c"
   },
   "outputs": [],
   "source": [
    "columns =[\"Text\",\"AA\",\"White\"]\n",
    "tweets = pd.read_csv(\"TwitterAAE-full-v1/twitteraae_all_aa\",names=columns,delimiter=\"\\t\",nrows=100000,usecols=[5,6,9])"
   ]
  },
  {
   "cell_type": "code",
   "execution_count": null,
   "metadata": {
    "colab": {},
    "colab_type": "code",
    "id": "z4q50kjxHs7f"
   },
   "outputs": [],
   "source": [
    "float_check = re.compile(\"[0-1]\\.[0-9]+$\")\n",
    "tweets = tweets[tweets['AA'].astype(str).str.contains(float_check)]\n",
    "tweets = tweets[tweets['White'].astype(str).str.contains(float_check)]\n",
    "tweets.AA = tweets.AA.astype(float)\n",
    "tweets.White = tweets.White.astype(float)"
   ]
  },
  {
   "cell_type": "code",
   "execution_count": null,
   "metadata": {
    "colab": {},
    "colab_type": "code",
    "id": "BGtZlGqKHs7i"
   },
   "outputs": [],
   "source": [
    "tweets.head()"
   ]
  },
  {
   "cell_type": "code",
   "execution_count": null,
   "metadata": {
    "colab": {},
    "colab_type": "code",
    "id": "-EsF54wDHs7p"
   },
   "outputs": [],
   "source": [
    "def race_count_histogram(tweets,title):\n",
    "    tweets[tweets.columns[1]].hist(color='blue',alpha=.3)\n",
    "    tweets[tweets.columns[2]].hist(color='orange',alpha=.3)\n",
    "    handles = [Rectangle((0,0),1,1,color=c,ec=\"k\",alpha=.2) for c in ['blue','orange']]\n",
    "    labels= [tweets.columns[1],tweets.columns[2]]\n",
    "    plt.title(title)\n",
    "    plt.legend(handles, labels)\n",
    "    plt.show()"
   ]
  },
  {
   "cell_type": "code",
   "execution_count": null,
   "metadata": {
    "colab": {
     "base_uri": "https://localhost:8080/",
     "height": 164
    },
    "colab_type": "code",
    "executionInfo": {
     "elapsed": 447,
     "status": "error",
     "timestamp": 1594581798083,
     "user": {
      "displayName": "Abraham Fraifeld",
      "photoUrl": "",
      "userId": "11258493564121748686"
     },
     "user_tz": 240
    },
    "id": "nw4ljIO4Hs7s",
    "outputId": "bb8907ec-f75a-42f2-bd2f-4dcf93c13767"
   },
   "outputs": [
    {
     "ename": "NameError",
     "evalue": "ignored",
     "output_type": "error",
     "traceback": [
      "\u001b[0;31m---------------------------------------------------------------------------\u001b[0m",
      "\u001b[0;31mNameError\u001b[0m                                 Traceback (most recent call last)",
      "\u001b[0;32m<ipython-input-10-e167d36efd1c>\u001b[0m in \u001b[0;36m<module>\u001b[0;34m()\u001b[0m\n\u001b[0;32m----> 1\u001b[0;31m \u001b[0mrace_count_histogram\u001b[0m\u001b[0;34m(\u001b[0m\u001b[0mtweets\u001b[0m\u001b[0;34m,\u001b[0m\u001b[0;34m\"Histogram of Proportion of Words AA/White\\nCorpus: [BGO EMNLP '16]\"\u001b[0m\u001b[0;34m)\u001b[0m\u001b[0;34m\u001b[0m\u001b[0;34m\u001b[0m\u001b[0m\n\u001b[0m",
      "\u001b[0;31mNameError\u001b[0m: name 'tweets' is not defined"
     ]
    }
   ],
   "source": [
    "race_count_histogram(tweets,\"Histogram of Proportion of Words AA/White\\nCorpus: [BGO EMNLP '16]\")"
   ]
  },
  {
   "cell_type": "markdown",
   "metadata": {
    "colab_type": "text",
    "id": "gAlKhwApHs7v"
   },
   "source": [
    "# Addings more tweets\n",
    "\n",
    "The histogram above underscores the need for more tweet diversity. I used the model described in the paper above (available <a href=https://github.com/slanglab/twitteraae> here</a>) and the <a href=\"https://www.kaggle.com/kazanova/sentiment140/data#\"> tweet corpus here </a> to enrich my list of tweets. The tweet texts and predicted classes are available in <b> race_labeled_tweets_from_sentiment.csv </b>"
   ]
  },
  {
   "cell_type": "code",
   "execution_count": 23,
   "metadata": {
    "colab": {
     "base_uri": "https://localhost:8080/",
     "height": 204
    },
    "colab_type": "code",
    "executionInfo": {
     "elapsed": 2244,
     "status": "ok",
     "timestamp": 1595256031912,
     "user": {
      "displayName": "Abraham Fraifeld",
      "photoUrl": "",
      "userId": "11258493564121748686"
     },
     "user_tz": 240
    },
    "id": "nos0BZ2pHs7w",
    "outputId": "9503141c-4ed8-434d-ee55-6c20b8ce2b04"
   },
   "outputs": [
    {
     "data": {
      "text/html": [
       "<div>\n",
       "<style scoped>\n",
       "    .dataframe tbody tr th:only-of-type {\n",
       "        vertical-align: middle;\n",
       "    }\n",
       "\n",
       "    .dataframe tbody tr th {\n",
       "        vertical-align: top;\n",
       "    }\n",
       "\n",
       "    .dataframe thead th {\n",
       "        text-align: right;\n",
       "    }\n",
       "</style>\n",
       "<table border=\"1\" class=\"dataframe\">\n",
       "  <thead>\n",
       "    <tr style=\"text-align: right;\">\n",
       "      <th></th>\n",
       "      <th>Text</th>\n",
       "      <th>AA</th>\n",
       "      <th>White</th>\n",
       "    </tr>\n",
       "  </thead>\n",
       "  <tbody>\n",
       "    <tr>\n",
       "      <th>0</th>\n",
       "      <td>@switchfoot http://twitpic.com/2y1zl - Awww, t...</td>\n",
       "      <td>0.202300</td>\n",
       "      <td>0.333193</td>\n",
       "    </tr>\n",
       "    <tr>\n",
       "      <th>1</th>\n",
       "      <td>is upset that he can't update his Facebook by ...</td>\n",
       "      <td>0.172174</td>\n",
       "      <td>0.583695</td>\n",
       "    </tr>\n",
       "    <tr>\n",
       "      <th>2</th>\n",
       "      <td>@Kenichan I dived many times for the ball. Man...</td>\n",
       "      <td>0.102774</td>\n",
       "      <td>0.730196</td>\n",
       "    </tr>\n",
       "    <tr>\n",
       "      <th>3</th>\n",
       "      <td>my whole body feels itchy and like its on fire</td>\n",
       "      <td>0.185610</td>\n",
       "      <td>0.390145</td>\n",
       "    </tr>\n",
       "    <tr>\n",
       "      <th>4</th>\n",
       "      <td>@nationwideclass no, it's not behaving at all....</td>\n",
       "      <td>0.142938</td>\n",
       "      <td>0.457326</td>\n",
       "    </tr>\n",
       "  </tbody>\n",
       "</table>\n",
       "</div>"
      ],
      "text/plain": [
       "                                                Text        AA     White\n",
       "0  @switchfoot http://twitpic.com/2y1zl - Awww, t...  0.202300  0.333193\n",
       "1  is upset that he can't update his Facebook by ...  0.172174  0.583695\n",
       "2  @Kenichan I dived many times for the ball. Man...  0.102774  0.730196\n",
       "3    my whole body feels itchy and like its on fire   0.185610  0.390145\n",
       "4  @nationwideclass no, it's not behaving at all....  0.142938  0.457326"
      ]
     },
     "execution_count": 23,
     "metadata": {
      "tags": []
     },
     "output_type": "execute_result"
    }
   ],
   "source": [
    "extra_tweets = pd.read_csv(\"/content/drive/My Drive/race_labeled_tweets_from_sentiment.csv\")\n",
    "extra_tweets.head()"
   ]
  },
  {
   "cell_type": "code",
   "execution_count": null,
   "metadata": {
    "colab": {
     "base_uri": "https://localhost:8080/",
     "height": 204
    },
    "colab_type": "code",
    "executionInfo": {
     "elapsed": 510,
     "status": "ok",
     "timestamp": 1594581763914,
     "user": {
      "displayName": "Abraham Fraifeld",
      "photoUrl": "",
      "userId": "11258493564121748686"
     },
     "user_tz": 240
    },
    "id": "d8yXIfXFHs7z",
    "outputId": "a896eaab-b6fc-4592-debc-5935410e9c56"
   },
   "outputs": [
    {
     "data": {
      "text/html": [
       "<div>\n",
       "<style scoped>\n",
       "    .dataframe tbody tr th:only-of-type {\n",
       "        vertical-align: middle;\n",
       "    }\n",
       "\n",
       "    .dataframe tbody tr th {\n",
       "        vertical-align: top;\n",
       "    }\n",
       "\n",
       "    .dataframe thead th {\n",
       "        text-align: right;\n",
       "    }\n",
       "</style>\n",
       "<table border=\"1\" class=\"dataframe\">\n",
       "  <thead>\n",
       "    <tr style=\"text-align: right;\">\n",
       "      <th></th>\n",
       "      <th>Text</th>\n",
       "      <th>AA</th>\n",
       "      <th>White</th>\n",
       "      <th>EducationLevel</th>\n",
       "      <th>PreprocessedText</th>\n",
       "    </tr>\n",
       "  </thead>\n",
       "  <tbody>\n",
       "    <tr>\n",
       "      <th>0</th>\n",
       "      <td>Click Clack Motha Fucka I ain't tryin to hear ...</td>\n",
       "      <td>0.894545</td>\n",
       "      <td>0.089091</td>\n",
       "      <td>1</td>\n",
       "      <td>click clack motha fucka aint tryin hear nothin</td>\n",
       "    </tr>\n",
       "    <tr>\n",
       "      <th>1</th>\n",
       "      <td>Man imissed a called from my bae hella mad -_-...</td>\n",
       "      <td>0.942000</td>\n",
       "      <td>0.000000</td>\n",
       "      <td>1</td>\n",
       "      <td>man imiss call bae hella mad</td>\n",
       "    </tr>\n",
       "    <tr>\n",
       "      <th>2</th>\n",
       "      <td>@devontekthomas OMG I keep sayin boo wen I mea...</td>\n",
       "      <td>0.951111</td>\n",
       "      <td>0.017778</td>\n",
       "      <td>2</td>\n",
       "      <td>omg keep sayin boo wen mean boy</td>\n",
       "    </tr>\n",
       "    <tr>\n",
       "      <th>3</th>\n",
       "      <td>@devontekthomas I did not mean to say dat</td>\n",
       "      <td>0.957143</td>\n",
       "      <td>0.008571</td>\n",
       "      <td>1</td>\n",
       "      <td>mean say dat</td>\n",
       "    </tr>\n",
       "    <tr>\n",
       "      <th>4</th>\n",
       "      <td>@devontekthomas awww u do too</td>\n",
       "      <td>0.975000</td>\n",
       "      <td>0.015000</td>\n",
       "      <td>0</td>\n",
       "      <td>awww u</td>\n",
       "    </tr>\n",
       "  </tbody>\n",
       "</table>\n",
       "</div>"
      ],
      "text/plain": [
       "                                                Text  ...                                PreprocessedText\n",
       "0  Click Clack Motha Fucka I ain't tryin to hear ...  ...  click clack motha fucka aint tryin hear nothin\n",
       "1  Man imissed a called from my bae hella mad -_-...  ...                    man imiss call bae hella mad\n",
       "2  @devontekthomas OMG I keep sayin boo wen I mea...  ...                 omg keep sayin boo wen mean boy\n",
       "3          @devontekthomas I did not mean to say dat  ...                                    mean say dat\n",
       "4                      @devontekthomas awww u do too  ...                                          awww u\n",
       "\n",
       "[5 rows x 5 columns]"
      ]
     },
     "execution_count": 5,
     "metadata": {
      "tags": []
     },
     "output_type": "execute_result"
    }
   ],
   "source": [
    "all_tweets=tweets.append(extra_tweets).reset_index(drop=True)\n",
    "all_tweets.head()"
   ]
  },
  {
   "cell_type": "code",
   "execution_count": null,
   "metadata": {
    "colab": {
     "base_uri": "https://localhost:8080/",
     "height": 296
    },
    "colab_type": "code",
    "executionInfo": {
     "elapsed": 547,
     "status": "ok",
     "timestamp": 1594581794878,
     "user": {
      "displayName": "Abraham Fraifeld",
      "photoUrl": "",
      "userId": "11258493564121748686"
     },
     "user_tz": 240
    },
    "id": "_A9KstXKHs72",
    "outputId": "202f4d48-f592-4c72-c07a-88f9d54868a7"
   },
   "outputs": [
    {
     "data": {
      "image/png": "[encoded data removed]",
      "text/plain": [
       "<Figure size 432x288 with 1 Axes>"
      ]
     },
     "metadata": {
      "needs_background": "light",
      "tags": []
     },
     "output_type": "display_data"
    }
   ],
   "source": [
    "race_count_histogram(all_tweets,\"Histogram of Proportion of Words AA/White\\nCorpus: [BGO EMNLP '18]+100,000 More Tweets\")"
   ]
  },
  {
   "cell_type": "markdown",
   "metadata": {
    "colab_type": "text",
    "id": "OGikLpIuHs74"
   },
   "source": [
    "This seems like a more reasonable mix"
   ]
  },
  {
   "cell_type": "markdown",
   "metadata": {
    "colab_type": "text",
    "id": "YZJ9Dd_rHs75"
   },
   "source": [
    "# Creating a biased model\n",
    "\n",
    "Our goal is to create a bias detection engine. This notebook is designed to train a biased model that the detection engine will flag. In this case, we will train a shallow neural network that will take as input a feature vector representing the tweet. \n",
    "\n",
    "\n",
    "Then we will make a subjective judgement on the tweets. This is meant to mimic common text labeling tasks such as \n",
    "- Hate speech detection\n",
    "- Education level classification\n",
    "- Tweet recommendation\n",
    "\n",
    "In this case, we will perform education level classification. We will simulate the experience of three independent labelers who label tweets according to some predetermined distribution. Since we want to produce a biased (read: <i> racist </i>) model, we will assign labels as follows:\n",
    "<center>\n",
    "$educlabel1(tweet) = min(8,2 \\times (\\mathcal{N}(tweet.AA,\\,.2)\\ + 6 \\times \\mathcal{N}(tweet.White,\\,.2))$ <br>\n",
    "$educlabel2(tweet) = min(8,2 \\times (\\mathcal{N}(tweet.AA,\\,.5)\\ + 6 \\times \\mathcal{N}(tweet.White,\\,.2))$ <br>\n",
    "$educlabel3(tweet) = min(8,4 \\times (\\mathcal{N}(tweet.AA,\\,.2)\\ + 4 \\times \\mathcal{N}(tweet.White,\\,.2))$ <br>\n",
    "$educlabel(tweet) = max(int(\\frac{educlabel1(tweet) + educlabel2(tweet) + educlabel3(tweet)}{3}),0)$\n",
    "</center>\n",
    "These labelers generally give more weight to words the model in the paper above considers \"White\" than to words it considers \"AA,\" thereby giving White-sounding tweets a significant advantage when it comes to education level determinations. The aggregated label does not weight lablers according to their biases."
   ]
  },
  {
   "cell_type": "markdown",
   "metadata": {
    "colab_type": "text",
    "id": "CPaUYx5yHs75"
   },
   "source": [
    "## Test out the formula"
   ]
  },
  {
   "cell_type": "code",
   "execution_count": null,
   "metadata": {
    "colab": {
     "base_uri": "https://localhost:8080/",
     "height": 34
    },
    "colab_type": "code",
    "executionInfo": {
     "elapsed": 338,
     "status": "ok",
     "timestamp": 1594581806492,
     "user": {
      "displayName": "Abraham Fraifeld",
      "photoUrl": "",
      "userId": "11258493564121748686"
     },
     "user_tz": 240
    },
    "id": "9Z7Y4yVqHs76",
    "outputId": "64e55a5d-8ae0-42c0-fcf1-97d9df608509"
   },
   "outputs": [
    {
     "name": "stdout",
     "output_type": "stream",
     "text": [
      "Man imissed a called from my bae hella mad -_- @callme_KRAZII : 1\n"
     ]
    }
   ],
   "source": [
    "tweet = all_tweets.loc[1,:]\n",
    "raw_score_1 = min(8,2*random.gauss(tweet.AA,.2) + 6*random.gauss(tweet.White,.2))\n",
    "raw_score_2 = min(8,2*random.gauss(tweet.AA,.5) + 6*random.gauss(tweet.White,.2))\n",
    "raw_score_3 = min(8,4*random.gauss(tweet.AA,.2) + 4*random.gauss(tweet.White,.2))\n",
    "tweet_label = max(int((raw_score_1+raw_score_2+raw_score_3)/3),0)\n",
    "print(tweet.Text + \" : \" + str(tweet_label))"
   ]
  },
  {
   "cell_type": "code",
   "execution_count": null,
   "metadata": {
    "colab": {},
    "colab_type": "code",
    "id": "zO-g8oZUHs78"
   },
   "outputs": [],
   "source": [
    "def label(tweet):\n",
    "    raw_score_1 = min(8,2*random.gauss(tweet.AA,.2) + 6*random.gauss(tweet.White,.2))\n",
    "    raw_score_2 = min(8,2*random.gauss(tweet.AA,.5) + 6*random.gauss(tweet.White,.2))\n",
    "    raw_score_3 = min(8,4*random.gauss(tweet.AA,.2) + 4*random.gauss(tweet.White,.2))\n",
    "    return max(int((raw_score_1+raw_score_2+raw_score_3)/3),0)"
   ]
  },
  {
   "cell_type": "code",
   "execution_count": null,
   "metadata": {
    "colab": {},
    "colab_type": "code",
    "id": "tgyeyTWPHs8A"
   },
   "outputs": [],
   "source": [
    "labels = [label(all_tweets.loc[i,:]) for i in range(len(all_tweets))]\n",
    "all_tweets[\"EducationLevel\"] = labels"
   ]
  },
  {
   "cell_type": "code",
   "execution_count": null,
   "metadata": {
    "colab": {},
    "colab_type": "code",
    "id": "wriuveeOHs8C",
    "outputId": "482388ee-720a-445f-809a-7d9d3ddc5910"
   },
   "outputs": [
    {
     "data": {
      "image/png": "[encoded data removed]",
      "text/plain": [
       "<Figure size 432x288 with 1 Axes>"
      ]
     },
     "metadata": {
      "needs_background": "light",
      "tags": []
     },
     "output_type": "display_data"
    }
   ],
   "source": [
    "all_tweets[all_tweets.White > all_tweets.AA].EducationLevel.hist(color='blue',alpha=.3)\n",
    "all_tweets[all_tweets.AA > all_tweets.White].EducationLevel.hist(color='orange',alpha=.3)\n",
    "handles = [Rectangle((0,0),1,1,color=c,ec=\"k\",alpha=.2) for c in ['blue','orange']]\n",
    "labels= [\"More White Words\",\"More AA Words\"]\n",
    "plt.title(\"Education Level Histogram For Tweets with Race-Word Distributions\")\n",
    "plt.legend(handles, labels)\n",
    "plt.xlabel(\"Education Level\")\n",
    "plt.show()"
   ]
  },
  {
   "cell_type": "markdown",
   "metadata": {
    "colab_type": "text",
    "id": "cZQWZQIWHs8G"
   },
   "source": [
    "This histogram shows that the lablers were in fact biased against tweets with more African American English words."
   ]
  },
  {
   "cell_type": "code",
   "execution_count": 25,
   "metadata": {
    "colab": {},
    "colab_type": "code",
    "executionInfo": {
     "elapsed": 1906,
     "status": "ok",
     "timestamp": 1595256079601,
     "user": {
      "displayName": "Abraham Fraifeld",
      "photoUrl": "",
      "userId": "11258493564121748686"
     },
     "user_tz": 240
    },
    "id": "GnNhMTiBHs8H"
   },
   "outputs": [],
   "source": [
    "all_tweets.to_csv(\"/content/drive/My Drive/labeled_tweets.csv\",index=False)"
   ]
  },
  {
   "cell_type": "markdown",
   "metadata": {
    "colab_type": "text",
    "id": "2-wAcqlzHs8K"
   },
   "source": [
    "## Preprocessing\n"
   ]
  },
  {
   "cell_type": "code",
   "execution_count": 24,
   "metadata": {
    "colab": {},
    "colab_type": "code",
    "executionInfo": {
     "elapsed": 721,
     "status": "ok",
     "timestamp": 1595256058433,
     "user": {
      "displayName": "Abraham Fraifeld",
      "photoUrl": "",
      "userId": "11258493564121748686"
     },
     "user_tz": 240
    },
    "id": "6_0GbkzLHs8K"
   },
   "outputs": [],
   "source": [
    "all_tweets = pd.read_csv(\"/content/drive/My Drive/labeled_tweets.csv\")"
   ]
  },
  {
   "cell_type": "markdown",
   "metadata": {
    "colab_type": "text",
    "id": "04bLN2zMHs8N"
   },
   "source": [
    "### Traditional NLP Preprocessing\n",
    "\n",
    "We will standardize case, remove stop words, mentions, and urls. We won't stem because we will be converting words to word vectors using an embedding."
   ]
  },
  {
   "cell_type": "code",
   "execution_count": 5,
   "metadata": {
    "colab": {},
    "colab_type": "code",
    "executionInfo": {
     "elapsed": 618,
     "status": "ok",
     "timestamp": 1595254864997,
     "user": {
      "displayName": "Abraham Fraifeld",
      "photoUrl": "",
      "userId": "11258493564121748686"
     },
     "user_tz": 240
    },
    "id": "j7FNKZUqK_Tv"
   },
   "outputs": [],
   "source": [
    "def is_url(token):\n",
    "  val = URLValidator()\n",
    "  try:\n",
    "      val(token)\n",
    "      return True\n",
    "  except ValidationError:\n",
    "      return False"
   ]
  },
  {
   "cell_type": "code",
   "execution_count": null,
   "metadata": {
    "colab": {},
    "colab_type": "code",
    "id": "jW_s-86dIhUU"
   },
   "outputs": [],
   "source": [
    "def preprocess(tweet,stop_words=None,stemmer=None,punct_strip=None):\n",
    "\n",
    "  # These can't be default arguments bc they come from functions\n",
    "  if stop_words == None:\n",
    "    stop_words = set(stopwords.words('english')) \n",
    "  if stemmer == None:\n",
    "    stemmer = PorterStemmer()\n",
    "  if punct_strip == None:\n",
    "    punct_strip = str.maketrans('', '', string.punctuation)\n",
    "\n",
    "  # tokenize\n",
    "  tweet = tweet.split(\" \")\n",
    "  final_tweet = []\n",
    "\n",
    "  for token in tweet:\n",
    "    # lower case\n",
    "    token = token.lower()\n",
    "\n",
    "    # remove stop words, mentions, urls\n",
    "    if token and (token in stop_words or token[0] == '@' or is_url(token)):\n",
    "      continue # do not append it to final_tweet\n",
    "\n",
    "\n",
    "    # remove punctuation \n",
    "    token = token.translate(punct_strip)\n",
    "\n",
    "  \n",
    "    \n",
    "    if len(token) > 0:\n",
    "      final_tweet.append(token)\n",
    "\n",
    "  return \" \".join(final_tweet)\n",
    "\n",
    "\n",
    "  "
   ]
  },
  {
   "cell_type": "code",
   "execution_count": null,
   "metadata": {
    "colab": {},
    "colab_type": "code",
    "id": "6G1OgdkoKJh1"
   },
   "outputs": [],
   "source": [
    "stop_words = set(stopwords.words('english')) \n",
    "punct_strip = punct_strip = str.maketrans('', '', string.punctuation)\n",
    "all_tweets[\"PreprocessedText\"] = [preprocess(t,stop_words,punct_strip) for t in all_tweets.Text]\n",
    "all_tweets = all_tweets.dropna()"
   ]
  },
  {
   "cell_type": "code",
   "execution_count": null,
   "metadata": {
    "colab": {
     "base_uri": "https://localhost:8080/",
     "height": 119
    },
    "colab_type": "code",
    "executionInfo": {
     "elapsed": 748,
     "status": "ok",
     "timestamp": 1595077288562,
     "user": {
      "displayName": "Abraham Fraifeld",
      "photoUrl": "",
      "userId": "11258493564121748686"
     },
     "user_tz": 240
    },
    "id": "2M2xrRHMReDv",
    "outputId": "05eed798-f810-4839-9b82-e8cfebfe4482"
   },
   "outputs": [
    {
     "data": {
      "text/plain": [
       "0    click clack motha fucka aint tryin hear nothin\n",
       "1                      man imiss call bae hella mad\n",
       "2                   omg keep sayin boo wen mean boy\n",
       "3                                      mean say dat\n",
       "4                                            awww u\n",
       "Name: PreprocessedText, dtype: object"
      ]
     },
     "execution_count": 9,
     "metadata": {
      "tags": []
     },
     "output_type": "execute_result"
    }
   ],
   "source": [
    "all_tweets.PreprocessedText.head()"
   ]
  },
  {
   "cell_type": "code",
   "execution_count": null,
   "metadata": {
    "colab": {},
    "colab_type": "code",
    "id": "6h_UhFBKRps0"
   },
   "outputs": [],
   "source": [
    "all_tweets.to_csv(\"/content/drive/My Drive/labeled_tweets.csv\",index=False)"
   ]
  },
  {
   "cell_type": "markdown",
   "metadata": {
    "colab_type": "text",
    "id": "jpOSwFTsIyhp"
   },
   "source": [
    "### Dropping Rare Words\n",
    "\n",
    "We will keep only those tokens that occur in at least five tweets. All tweets with 0 remaining tokens will be dropped."
   ]
  },
  {
   "cell_type": "code",
   "execution_count": null,
   "metadata": {
    "colab": {},
    "colab_type": "code",
    "id": "Vu6-pj4_SBzI"
   },
   "outputs": [],
   "source": [
    "def get_unigram_frequencies(tweets):\n",
    "    vectorizer = CountVectorizer()\n",
    "    X = vectorizer.fit_transform(tweets)\n",
    "    return {k:v for k,v in zip(vectorizer.get_feature_names(), np.ravel(X.sum(axis=0)))}"
   ]
  },
  {
   "cell_type": "code",
   "execution_count": null,
   "metadata": {
    "colab": {},
    "colab_type": "code",
    "id": "ai6qomGxTb98"
   },
   "outputs": [],
   "source": [
    "unigram_frequencies = get_unigram_frequencies(all_tweets.PreprocessedText)\n",
    "keep_words = {k for k in unigram_frequencies.keys() if unigram_frequencies[k] > 4}"
   ]
  },
  {
   "cell_type": "code",
   "execution_count": null,
   "metadata": {
    "colab": {},
    "colab_type": "code",
    "id": "PZ11f30KYUY_"
   },
   "outputs": [],
   "source": [
    "def strip_rare_words(tweet,keep_words):\n",
    "  tweet = tweet.split(\" \")\n",
    "  return \" \".join([token for token in tweet if token in keep_words])\n"
   ]
  },
  {
   "cell_type": "code",
   "execution_count": null,
   "metadata": {
    "colab": {},
    "colab_type": "code",
    "id": "lVcEX9b1YO9X"
   },
   "outputs": [],
   "source": [
    "all_tweets.PreprocessedText = [strip_rare_words(x,keep_words) for x in all_tweets.PreprocessedText]\n",
    "all_tweets = all_tweets[all_tweets.PreprocessedText.str.len() > 0]"
   ]
  },
  {
   "cell_type": "code",
   "execution_count": null,
   "metadata": {
    "colab": {
     "base_uri": "https://localhost:8080/",
     "height": 34
    },
    "colab_type": "code",
    "executionInfo": {
     "elapsed": 521,
     "status": "ok",
     "timestamp": 1595077354131,
     "user": {
      "displayName": "Abraham Fraifeld",
      "photoUrl": "",
      "userId": "11258493564121748686"
     },
     "user_tz": 240
    },
    "id": "VJW9Ujj8Y7nR",
    "outputId": "d5f5a63d-cf66-448b-b78c-c8f9160caa6c"
   },
   "outputs": [
    {
     "data": {
      "text/plain": [
       "195362"
      ]
     },
     "execution_count": 20,
     "metadata": {
      "tags": []
     },
     "output_type": "execute_result"
    }
   ],
   "source": [
    "len(all_tweets)"
   ]
  },
  {
   "cell_type": "markdown",
   "metadata": {
    "colab_type": "text",
    "id": "NcAAUZcX_ppP"
   },
   "source": [
    "### Get the size of the vocabulary"
   ]
  },
  {
   "cell_type": "code",
   "execution_count": null,
   "metadata": {
    "colab": {
     "base_uri": "https://localhost:8080/",
     "height": 34
    },
    "colab_type": "code",
    "executionInfo": {
     "elapsed": 953,
     "status": "ok",
     "timestamp": 1595081650512,
     "user": {
      "displayName": "Abraham Fraifeld",
      "photoUrl": "",
      "userId": "11258493564121748686"
     },
     "user_tz": 240
    },
    "id": "n0yW5q8b_or6",
    "outputId": "fe161b6f-508e-49e9-c207-2368443b3daa"
   },
   "outputs": [
    {
     "name": "stdout",
     "output_type": "stream",
     "text": [
      "11722\n"
     ]
    }
   ],
   "source": [
    "vocab = set([word.strip() for x in all_tweets.PreprocessedText for word in x.split(\" \")])\n",
    "vocab_len = len(vocab)\n",
    "print(vocab)"
   ]
  },
  {
   "cell_type": "markdown",
   "metadata": {
    "colab_type": "text",
    "id": "UHf2PoAc-8YE"
   },
   "source": [
    "# Prepare PyTorch Model"
   ]
  },
  {
   "cell_type": "code",
   "execution_count": null,
   "metadata": {
    "colab": {},
    "colab_type": "code",
    "id": "l0-W-bsaYFUG"
   },
   "outputs": [],
   "source": [
    "all_tweets = pd.read_csv(\"/content/drive/My Drive/labeled_preprocessed_tweets.csv\")"
   ]
  },
  {
   "cell_type": "code",
   "execution_count": null,
   "metadata": {
    "colab": {
     "base_uri": "https://localhost:8080/",
     "height": 204
    },
    "colab_type": "code",
    "executionInfo": {
     "elapsed": 617,
     "status": "ok",
     "timestamp": 1595083364376,
     "user": {
      "displayName": "Abraham Fraifeld",
      "photoUrl": "",
      "userId": "11258493564121748686"
     },
     "user_tz": 240
    },
    "id": "PblEnIYqYIbJ",
    "outputId": "5dfe9f78-5621-4a4f-b94f-f61d6291472a"
   },
   "outputs": [
    {
     "data": {
      "text/html": [
       "<div>\n",
       "<style scoped>\n",
       "    .dataframe tbody tr th:only-of-type {\n",
       "        vertical-align: middle;\n",
       "    }\n",
       "\n",
       "    .dataframe tbody tr th {\n",
       "        vertical-align: top;\n",
       "    }\n",
       "\n",
       "    .dataframe thead th {\n",
       "        text-align: right;\n",
       "    }\n",
       "</style>\n",
       "<table border=\"1\" class=\"dataframe\">\n",
       "  <thead>\n",
       "    <tr style=\"text-align: right;\">\n",
       "      <th></th>\n",
       "      <th>Text</th>\n",
       "      <th>AA</th>\n",
       "      <th>White</th>\n",
       "      <th>EducationLevel</th>\n",
       "      <th>PreprocessedText</th>\n",
       "    </tr>\n",
       "  </thead>\n",
       "  <tbody>\n",
       "    <tr>\n",
       "      <th>0</th>\n",
       "      <td>Click Clack Motha Fucka I ain't tryin to hear ...</td>\n",
       "      <td>0.894545</td>\n",
       "      <td>0.089091</td>\n",
       "      <td>2</td>\n",
       "      <td>click clack motha fucka aint tryin hear nothin</td>\n",
       "    </tr>\n",
       "    <tr>\n",
       "      <th>1</th>\n",
       "      <td>Man imissed a called from my bae hella mad -_-...</td>\n",
       "      <td>0.942000</td>\n",
       "      <td>0.000000</td>\n",
       "      <td>2</td>\n",
       "      <td>man called bae hella mad</td>\n",
       "    </tr>\n",
       "    <tr>\n",
       "      <th>2</th>\n",
       "      <td>@devontekthomas OMG I keep sayin boo wen I mea...</td>\n",
       "      <td>0.951111</td>\n",
       "      <td>0.017778</td>\n",
       "      <td>2</td>\n",
       "      <td>omg keep sayin boo wen mean boy</td>\n",
       "    </tr>\n",
       "    <tr>\n",
       "      <th>3</th>\n",
       "      <td>@devontekthomas I did not mean to say dat</td>\n",
       "      <td>0.957143</td>\n",
       "      <td>0.008571</td>\n",
       "      <td>2</td>\n",
       "      <td>mean say dat</td>\n",
       "    </tr>\n",
       "    <tr>\n",
       "      <th>4</th>\n",
       "      <td>@devontekthomas awww u do too</td>\n",
       "      <td>0.975000</td>\n",
       "      <td>0.015000</td>\n",
       "      <td>3</td>\n",
       "      <td>awww</td>\n",
       "    </tr>\n",
       "  </tbody>\n",
       "</table>\n",
       "</div>"
      ],
      "text/plain": [
       "                                                Text  ...                                PreprocessedText\n",
       "0  Click Clack Motha Fucka I ain't tryin to hear ...  ...  click clack motha fucka aint tryin hear nothin\n",
       "1  Man imissed a called from my bae hella mad -_-...  ...                        man called bae hella mad\n",
       "2  @devontekthomas OMG I keep sayin boo wen I mea...  ...                 omg keep sayin boo wen mean boy\n",
       "3          @devontekthomas I did not mean to say dat  ...                                    mean say dat\n",
       "4                      @devontekthomas awww u do too  ...                                            awww\n",
       "\n",
       "[5 rows x 5 columns]"
      ]
     },
     "execution_count": 119,
     "metadata": {
      "tags": []
     },
     "output_type": "execute_result"
    }
   ],
   "source": [
    "all_tweets.head()"
   ]
  },
  {
   "cell_type": "markdown",
   "metadata": {
    "colab_type": "text",
    "id": "bVMoBMkHYh9a"
   },
   "source": [
    "### Split the dataset"
   ]
  },
  {
   "cell_type": "code",
   "execution_count": null,
   "metadata": {
    "colab": {
     "base_uri": "https://localhost:8080/",
     "height": 204
    },
    "colab_type": "code",
    "executionInfo": {
     "elapsed": 845,
     "status": "ok",
     "timestamp": 1595087419892,
     "user": {
      "displayName": "Abraham Fraifeld",
      "photoUrl": "",
      "userId": "11258493564121748686"
     },
     "user_tz": 240
    },
    "id": "xCnRpP-mndMQ",
    "outputId": "fd05648d-79b1-4fdc-aab8-815f1a30350a"
   },
   "outputs": [
    {
     "data": {
      "text/html": [
       "<div>\n",
       "<style scoped>\n",
       "    .dataframe tbody tr th:only-of-type {\n",
       "        vertical-align: middle;\n",
       "    }\n",
       "\n",
       "    .dataframe tbody tr th {\n",
       "        vertical-align: top;\n",
       "    }\n",
       "\n",
       "    .dataframe thead th {\n",
       "        text-align: right;\n",
       "    }\n",
       "</style>\n",
       "<table border=\"1\" class=\"dataframe\">\n",
       "  <thead>\n",
       "    <tr style=\"text-align: right;\">\n",
       "      <th></th>\n",
       "      <th>Text</th>\n",
       "      <th>AA</th>\n",
       "      <th>White</th>\n",
       "      <th>EducationLevel</th>\n",
       "      <th>PreprocessedText</th>\n",
       "    </tr>\n",
       "  </thead>\n",
       "  <tbody>\n",
       "    <tr>\n",
       "      <th>0</th>\n",
       "      <td>Click Clack Motha Fucka I ain't tryin to hear ...</td>\n",
       "      <td>0.894545</td>\n",
       "      <td>0.089091</td>\n",
       "      <td>2</td>\n",
       "      <td>click clack motha fucka aint tryin hear nothin</td>\n",
       "    </tr>\n",
       "    <tr>\n",
       "      <th>1</th>\n",
       "      <td>Man imissed a called from my bae hella mad -_-...</td>\n",
       "      <td>0.942000</td>\n",
       "      <td>0.000000</td>\n",
       "      <td>2</td>\n",
       "      <td>man called bae hella mad</td>\n",
       "    </tr>\n",
       "    <tr>\n",
       "      <th>2</th>\n",
       "      <td>@devontekthomas OMG I keep sayin boo wen I mea...</td>\n",
       "      <td>0.951111</td>\n",
       "      <td>0.017778</td>\n",
       "      <td>2</td>\n",
       "      <td>omg keep sayin boo wen mean boy</td>\n",
       "    </tr>\n",
       "    <tr>\n",
       "      <th>3</th>\n",
       "      <td>@devontekthomas I did not mean to say dat</td>\n",
       "      <td>0.957143</td>\n",
       "      <td>0.008571</td>\n",
       "      <td>2</td>\n",
       "      <td>mean say dat</td>\n",
       "    </tr>\n",
       "    <tr>\n",
       "      <th>4</th>\n",
       "      <td>@devontekthomas wat r u doin boy</td>\n",
       "      <td>0.996000</td>\n",
       "      <td>0.004000</td>\n",
       "      <td>3</td>\n",
       "      <td>wat doin boy</td>\n",
       "    </tr>\n",
       "  </tbody>\n",
       "</table>\n",
       "</div>"
      ],
      "text/plain": [
       "                                                Text  ...                                PreprocessedText\n",
       "0  Click Clack Motha Fucka I ain't tryin to hear ...  ...  click clack motha fucka aint tryin hear nothin\n",
       "1  Man imissed a called from my bae hella mad -_-...  ...                        man called bae hella mad\n",
       "2  @devontekthomas OMG I keep sayin boo wen I mea...  ...                 omg keep sayin boo wen mean boy\n",
       "3          @devontekthomas I did not mean to say dat  ...                                    mean say dat\n",
       "4                   @devontekthomas wat r u doin boy  ...                                    wat doin boy\n",
       "\n",
       "[5 rows x 5 columns]"
      ]
     },
     "execution_count": 241,
     "metadata": {
      "tags": []
     },
     "output_type": "execute_result"
    }
   ],
   "source": [
    "all_tweets = all_tweets[all_tweets.PreprocessedText.str.len()>0]\n",
    "all_tweets = all_tweets[all_tweets.PreprocessedText.str.split(\" \").str.len() > 1].reset_index(drop=True)\n",
    "all_tweets.head()"
   ]
  },
  {
   "cell_type": "code",
   "execution_count": null,
   "metadata": {
    "colab": {
     "base_uri": "https://localhost:8080/",
     "height": 51
    },
    "colab_type": "code",
    "executionInfo": {
     "elapsed": 1868,
     "status": "ok",
     "timestamp": 1595087823351,
     "user": {
      "displayName": "Abraham Fraifeld",
      "photoUrl": "",
      "userId": "11258493564121748686"
     },
     "user_tz": 240
    },
    "id": "QpFAgvPVDzgl",
    "outputId": "3e829717-c6e3-4bca-8ecc-bc3818de12fe"
   },
   "outputs": [
    {
     "name": "stdout",
     "output_type": "stream",
     "text": [
      "Training Data Length: 107800\n",
      "Test Data Length: 71866\n"
     ]
    }
   ],
   "source": [
    "all_tweets[\"Label\"] = all_tweets[\"EducationLevel\"]>2\n",
    "\n",
    "train_dataset = all_tweets.sample(frac = 0.6)[[\"PreprocessedText\",\"Label\"]]\n",
    "test_indices = [i for i in range(len(all_tweets)) if i  not in train_dataset.index]\n",
    "test_dataset = all_tweets.iloc[test_indices,:].reset_index(drop=True)\n",
    "print(\"Training Data Length: \" + str(len(train_dataset)))\n",
    "print(\"Test Data Length: \" + str(len(test_dataset)))\n",
    "\n",
    "train_dataset = train_dataset.reset_index(drop=True)\n",
    "test_dataset = test_dataset.reset_index(drop=True)\n",
    "\n",
    "train_len = int(len(train_dataset) * 0.95)\n",
    "sub_valid_ = train_dataset.sample(frac = 0.05)[[\"PreprocessedText\",\"Label\"]]\n",
    "sub_train_indices = [i for i in range(len(train_dataset)) if i  not in sub_valid_.index]\n",
    "sub_train_ = all_tweets.iloc[sub_train_indices,[4,5]].reset_index(drop=True)\n",
    "sub_valid_ = sub_valid_.reset_index(drop=True)\n",
    "\n",
    "sub_valid_.to_csv(\"/content/drive/My Drive/PyTorchData/validate.csv\",index=False)\n",
    "sub_train_ = all_tweets.iloc[sub_train_indices,[4,5]].reset_index(drop=True)\n",
    "sub_train_.to_csv(\"/content/drive/My Drive/PyTorchData/train.csv\",index=False)\n",
    "test_dataset.to_csv(\"/content/drive/My Drive/PyTorchData/test.csv\",index=False)"
   ]
  },
  {
   "cell_type": "code",
   "execution_count": 7,
   "metadata": {
    "colab": {},
    "colab_type": "code",
    "executionInfo": {
     "elapsed": 2067,
     "status": "ok",
     "timestamp": 1595254954948,
     "user": {
      "displayName": "Abraham Fraifeld",
      "photoUrl": "",
      "userId": "11258493564121748686"
     },
     "user_tz": 240
    },
    "id": "pM42fbH1mdnN"
   },
   "outputs": [],
   "source": [
    "sub_valid_ = pd.read_csv(\"/content/drive/My Drive/PyTorchData/validate.csv\")\n",
    "sub_train_ = pd.read_csv(\"/content/drive/My Drive/PyTorchData/train.csv\")\n",
    "test_dataset = pd.read_csv(\"/content/drive/My Drive/PyTorchData/test.csv\")"
   ]
  },
  {
   "cell_type": "code",
   "execution_count": 8,
   "metadata": {
    "colab": {
     "base_uri": "https://localhost:8080/",
     "height": 204
    },
    "colab_type": "code",
    "executionInfo": {
     "elapsed": 397,
     "status": "ok",
     "timestamp": 1595254957704,
     "user": {
      "displayName": "Abraham Fraifeld",
      "photoUrl": "",
      "userId": "11258493564121748686"
     },
     "user_tz": 240
    },
    "id": "gkegWHOGap8U",
    "outputId": "594b5769-7ae2-4a43-e1dd-1eb2108d2336"
   },
   "outputs": [
    {
     "data": {
      "text/html": [
       "<div>\n",
       "<style scoped>\n",
       "    .dataframe tbody tr th:only-of-type {\n",
       "        vertical-align: middle;\n",
       "    }\n",
       "\n",
       "    .dataframe tbody tr th {\n",
       "        vertical-align: top;\n",
       "    }\n",
       "\n",
       "    .dataframe thead th {\n",
       "        text-align: right;\n",
       "    }\n",
       "</style>\n",
       "<table border=\"1\" class=\"dataframe\">\n",
       "  <thead>\n",
       "    <tr style=\"text-align: right;\">\n",
       "      <th></th>\n",
       "      <th>PreprocessedText</th>\n",
       "      <th>Label</th>\n",
       "    </tr>\n",
       "  </thead>\n",
       "  <tbody>\n",
       "    <tr>\n",
       "      <th>0</th>\n",
       "      <td>click clack motha fucka aint tryin hear nothin</td>\n",
       "      <td>False</td>\n",
       "    </tr>\n",
       "    <tr>\n",
       "      <th>1</th>\n",
       "      <td>man called bae hella mad</td>\n",
       "      <td>False</td>\n",
       "    </tr>\n",
       "    <tr>\n",
       "      <th>2</th>\n",
       "      <td>mean say dat</td>\n",
       "      <td>False</td>\n",
       "    </tr>\n",
       "    <tr>\n",
       "      <th>3</th>\n",
       "      <td>wat doin boy</td>\n",
       "      <td>True</td>\n",
       "    </tr>\n",
       "    <tr>\n",
       "      <th>4</th>\n",
       "      <td>know dats rite</td>\n",
       "      <td>True</td>\n",
       "    </tr>\n",
       "  </tbody>\n",
       "</table>\n",
       "</div>"
      ],
      "text/plain": [
       "                                 PreprocessedText  Label\n",
       "0  click clack motha fucka aint tryin hear nothin  False\n",
       "1                        man called bae hella mad  False\n",
       "2                                    mean say dat  False\n",
       "3                                    wat doin boy   True\n",
       "4                                  know dats rite   True"
      ]
     },
     "execution_count": 8,
     "metadata": {
      "tags": []
     },
     "output_type": "execute_result"
    }
   ],
   "source": [
    "sub_train_.head()"
   ]
  },
  {
   "cell_type": "markdown",
   "metadata": {
    "colab_type": "text",
    "id": "YHVshqmnYmbu"
   },
   "source": [
    "### Turn the text into tensors"
   ]
  },
  {
   "cell_type": "code",
   "execution_count": null,
   "metadata": {
    "colab": {
     "base_uri": "https://localhost:8080/",
     "height": 71
    },
    "colab_type": "code",
    "executionInfo": {
     "elapsed": 443796,
     "status": "ok",
     "timestamp": 1595255408025,
     "user": {
      "displayName": "Abraham Fraifeld",
      "photoUrl": "",
      "userId": "11258493564121748686"
     },
     "user_tz": 240
    },
    "id": "jgfwwCrVYl5_",
    "outputId": "c7ca172c-174c-419d-8fa0-944bf5ce62fb"
   },
   "outputs": [],
   "source": [
    "from torchtext import data    \n",
    "TEXT = data.Field(tokenize='spacy',batch_first=True,include_lengths=True)\n",
    "LABEL = data.LabelField(dtype = torch.float,batch_first=True)\n",
    "fields = [('text',TEXT),('label', LABEL)]\n",
    "train_data=data.TabularDataset(path = '/content/drive/My Drive/PyTorchData/train.csv',format = 'csv',fields = fields,skip_header = True)\n",
    "valid_data=data.TabularDataset(path = '/content/drive/My Drive/PyTorchData/validate.csv',format = 'csv',fields = fields,skip_header = True)\n",
    "TEXT.build_vocab(train_data,min_freq=0,vectors = \"glove.6B.100d\")  \n",
    "LABEL.build_vocab(train_data)"
   ]
  },
  {
   "cell_type": "code",
   "execution_count": 10,
   "metadata": {
    "colab": {},
    "colab_type": "code",
    "executionInfo": {
     "elapsed": 472,
     "status": "ok",
     "timestamp": 1595255419487,
     "user": {
      "displayName": "Abraham Fraifeld",
      "photoUrl": "",
      "userId": "11258493564121748686"
     },
     "user_tz": 240
    },
    "id": "UkCc3OYDesnS"
   },
   "outputs": [],
   "source": [
    "device = torch.device('cuda' if torch.cuda.is_available() else 'cpu')  \n",
    "\n",
    "#set batch size\n",
    "BATCH_SIZE = 64\n",
    "\n",
    "#Load an iterator\n",
    "train_iterator, valid_iterator = data.BucketIterator.splits(\n",
    "    (train_data, valid_data), \n",
    "    batch_size = BATCH_SIZE,\n",
    "    sort_key = lambda x: len(x.text),\n",
    "    sort_within_batch=True,\n",
    "    device = device)"
   ]
  },
  {
   "cell_type": "markdown",
   "metadata": {
    "colab_type": "text",
    "id": "H8oaeYQl_A4q"
   },
   "source": [
    "## Define the Model Class - \n",
    "\n",
    "Following code from <a href=\"https://www.analyticsvidhya.com/blog/2020/01/first-text-classification-in-pytorch/\">here. </a> Using an LSTM.\n"
   ]
  },
  {
   "cell_type": "code",
   "execution_count": 11,
   "metadata": {
    "colab": {},
    "colab_type": "code",
    "executionInfo": {
     "elapsed": 463,
     "status": "ok",
     "timestamp": 1595255432719,
     "user": {
      "displayName": "Abraham Fraifeld",
      "photoUrl": "",
      "userId": "11258493564121748686"
     },
     "user_tz": 240
    },
    "id": "SGNhiy8E-_VJ"
   },
   "outputs": [],
   "source": [
    "class classifier(nn.Module):\n",
    "    \n",
    "    #define all the layers used in model\n",
    "    def __init__(self, vocab_size, embedding_dim, hidden_dim, output_dim, n_layers, \n",
    "                 bidirectional, dropout):\n",
    "        \n",
    "        #Constructor\n",
    "        super().__init__()          \n",
    "        \n",
    "        #embedding layer\n",
    "        self.embedding = nn.Embedding(vocab_size, embedding_dim)\n",
    "        \n",
    "        #lstm layer\n",
    "        self.lstm = nn.LSTM(embedding_dim, \n",
    "                           hidden_dim, \n",
    "                           num_layers=n_layers, \n",
    "                           bidirectional=bidirectional, \n",
    "                           dropout=dropout,\n",
    "                           batch_first=True)\n",
    "        \n",
    "        #dense layer\n",
    "        self.fc = nn.Linear(hidden_dim * 2, output_dim)\n",
    "        \n",
    "        #activation function\n",
    "        self.act = nn.Sigmoid()\n",
    "        \n",
    "    def forward(self, text, text_lengths):\n",
    "        \n",
    "        #text = [batch size,sent_length]\n",
    "        embedded = self.embedding(text)\n",
    "        #embedded = [batch size, sent_len, emb dim]\n",
    "      \n",
    "        #packed sequence\n",
    "        packed_embedded = nn.utils.rnn.pack_padded_sequence(embedded, text_lengths,batch_first=True)\n",
    "        \n",
    "        packed_output, (hidden, cell) = self.lstm(packed_embedded)\n",
    "        #hidden = [batch size, num layers * num directions,hid dim]\n",
    "        #cell = [batch size, num layers * num directions,hid dim]\n",
    "        \n",
    "        #concat the final forward and backward hidden state\n",
    "        hidden = torch.cat((hidden[-2,:,:], hidden[-1,:,:]), dim = 1)\n",
    "                \n",
    "        #hidden = [batch size, hid dim * num directions]\n",
    "        dense_outputs=self.fc(hidden)\n",
    "\n",
    "        #Final activation function\n",
    "        outputs=self.act(dense_outputs)\n",
    "        \n",
    "        return outputs"
   ]
  },
  {
   "cell_type": "markdown",
   "metadata": {
    "colab_type": "text",
    "id": "aM5e61O_CmGo"
   },
   "source": [
    "## Instantiate the model"
   ]
  },
  {
   "cell_type": "code",
   "execution_count": 12,
   "metadata": {
    "colab": {
     "base_uri": "https://localhost:8080/",
     "height": 119
    },
    "colab_type": "code",
    "executionInfo": {
     "elapsed": 400,
     "status": "ok",
     "timestamp": 1595255435738,
     "user": {
      "displayName": "Abraham Fraifeld",
      "photoUrl": "",
      "userId": "11258493564121748686"
     },
     "user_tz": 240
    },
    "id": "wdq2etpb_lcn",
    "outputId": "4026c10e-3378-4211-a235-929dcff0eafb"
   },
   "outputs": [
    {
     "name": "stdout",
     "output_type": "stream",
     "text": [
      "classifier(\n",
      "  (embedding): Embedding(13903, 100)\n",
      "  (lstm): LSTM(100, 32, num_layers=2, batch_first=True, dropout=0.2, bidirectional=True)\n",
      "  (fc): Linear(in_features=64, out_features=1, bias=True)\n",
      "  (act): Sigmoid()\n",
      ")\n"
     ]
    }
   ],
   "source": [
    "#define hyperparameters\n",
    "size_of_vocab = len(TEXT.vocab)\n",
    "embedding_dim = 100\n",
    "num_hidden_nodes = 32\n",
    "num_output_nodes = 1\n",
    "num_layers = 2\n",
    "bidirection = True\n",
    "dropout = 0.2\n",
    "\n",
    "#instantiate the model\n",
    "model = classifier(size_of_vocab, embedding_dim, num_hidden_nodes,num_output_nodes, num_layers, \n",
    "                   bidirectional = True, dropout = dropout)\n",
    "print(model)"
   ]
  },
  {
   "cell_type": "code",
   "execution_count": 13,
   "metadata": {
    "colab": {
     "base_uri": "https://localhost:8080/",
     "height": 51
    },
    "colab_type": "code",
    "executionInfo": {
     "elapsed": 409,
     "status": "ok",
     "timestamp": 1595255439008,
     "user": {
      "displayName": "Abraham Fraifeld",
      "photoUrl": "",
      "userId": "11258493564121748686"
     },
     "user_tz": 240
    },
    "id": "YBhjfT7-dbv6",
    "outputId": "7679e84f-c81b-4f62-d6b0-81c8278525b0"
   },
   "outputs": [
    {
     "name": "stdout",
     "output_type": "stream",
     "text": [
      "The model has 1,449,757 trainable parameters\n",
      "torch.Size([13903, 100])\n"
     ]
    }
   ],
   "source": [
    "def count_parameters(model):\n",
    "    return sum(p.numel() for p in model.parameters() if p.requires_grad)\n",
    "    \n",
    "print(f'The model has {count_parameters(model):,} trainable parameters')\n",
    "\n",
    "#Initialize the pretrained embedding\n",
    "pretrained_embeddings = TEXT.vocab.vectors\n",
    "model.embedding.weight.data.copy_(pretrained_embeddings)\n",
    "\n",
    "print(pretrained_embeddings.shape)"
   ]
  },
  {
   "cell_type": "markdown",
   "metadata": {
    "colab_type": "text",
    "id": "h4w0OGtxCoqE"
   },
   "source": [
    "## Define functions that train the model"
   ]
  },
  {
   "cell_type": "code",
   "execution_count": 14,
   "metadata": {
    "colab": {},
    "colab_type": "code",
    "executionInfo": {
     "elapsed": 468,
     "status": "ok",
     "timestamp": 1595255442960,
     "user": {
      "displayName": "Abraham Fraifeld",
      "photoUrl": "",
      "userId": "11258493564121748686"
     },
     "user_tz": 240
    },
    "id": "4qo7Rh0AH7Bb"
   },
   "outputs": [],
   "source": [
    "import torch.optim as optim\n",
    "\n",
    "#define optimizer and loss\n",
    "optimizer = optim.Adam(model.parameters())\n",
    "criterion = nn.BCELoss()\n",
    "\n",
    "#define metric\n",
    "def binary_accuracy(preds, y):\n",
    "    #round predictions to the closest integer\n",
    "    rounded_preds = torch.round(preds)\n",
    "    \n",
    "    correct = (rounded_preds == y).float() \n",
    "    acc = correct.sum() / len(correct)\n",
    "    return acc\n",
    "    \n",
    "#push to cuda if available\n",
    "model = model.to(device)\n",
    "criterion = criterion.to(device)"
   ]
  },
  {
   "cell_type": "code",
   "execution_count": 15,
   "metadata": {
    "colab": {},
    "colab_type": "code",
    "executionInfo": {
     "elapsed": 603,
     "status": "ok",
     "timestamp": 1595255445473,
     "user": {
      "displayName": "Abraham Fraifeld",
      "photoUrl": "",
      "userId": "11258493564121748686"
     },
     "user_tz": 240
    },
    "id": "Tt19KnDgIyMf"
   },
   "outputs": [],
   "source": [
    "def train(model, iterator, optimizer, criterion):\n",
    "    \n",
    "    #initialize every epoch \n",
    "    epoch_loss = 0\n",
    "    epoch_acc = 0\n",
    "    \n",
    "    #set the model in training phase\n",
    "    model.train()  \n",
    "    \n",
    "    for batch in iterator:\n",
    "        \n",
    "        #resets the gradients after every batch\n",
    "        optimizer.zero_grad()   \n",
    "        \n",
    "        #retrieve text and no. of words\n",
    "        text, text_lengths = batch.text   \n",
    "        \n",
    "        #convert to 1D tensor\n",
    "        predictions = model(text, text_lengths).squeeze()  \n",
    "        \n",
    "        #compute the loss\n",
    "        loss = criterion(predictions, batch.label)        \n",
    "        \n",
    "        #compute the binary accuracy\n",
    "        acc = binary_accuracy(predictions, batch.label)   \n",
    "        \n",
    "        #backpropage the loss and compute the gradients\n",
    "        loss.backward()       \n",
    "        \n",
    "        #update the weights\n",
    "        optimizer.step()      \n",
    "        \n",
    "        #loss and accuracy\n",
    "        epoch_loss += loss.item()  \n",
    "        epoch_acc += acc.item()    \n",
    "        \n",
    "    return epoch_loss / len(iterator), epoch_acc / len(iterator)"
   ]
  },
  {
   "cell_type": "code",
   "execution_count": 16,
   "metadata": {
    "colab": {},
    "colab_type": "code",
    "executionInfo": {
     "elapsed": 814,
     "status": "ok",
     "timestamp": 1595255447705,
     "user": {
      "displayName": "Abraham Fraifeld",
      "photoUrl": "",
      "userId": "11258493564121748686"
     },
     "user_tz": 240
    },
    "id": "Md7jtiPeCJ_i"
   },
   "outputs": [],
   "source": [
    "def evaluate(model, iterator, criterion):\n",
    "    \n",
    "    #initialize every epoch\n",
    "    epoch_loss = 0\n",
    "    epoch_acc = 0\n",
    "\n",
    "    #deactivating dropout layers\n",
    "    model.eval()\n",
    "    \n",
    "    #deactivates autograd\n",
    "    with torch.no_grad():\n",
    "    \n",
    "        for batch in iterator:\n",
    "        \n",
    "            #retrieve text and no. of words\n",
    "            text, text_lengths = batch.text\n",
    "            \n",
    "            #convert to 1d tensor\n",
    "            predictions = model(text, text_lengths).squeeze()\n",
    "            \n",
    "            #compute loss and accuracy\n",
    "            loss = criterion(predictions, batch.label)\n",
    "            acc = binary_accuracy(predictions, batch.label)\n",
    "            \n",
    "            #keep track of loss and accuracy\n",
    "            epoch_loss += loss.item()\n",
    "            epoch_acc += acc.item()\n",
    "        \n",
    "    return epoch_loss / len(iterator), epoch_acc / len(iterator)"
   ]
  },
  {
   "cell_type": "markdown",
   "metadata": {
    "colab_type": "text",
    "id": "J_D15jo6px_V"
   },
   "source": [
    "## Train the model\n",
    "Code inspired by this page: https://www.analyticsvidhya.com/blog/2020/01/first-text-classification-in-pytorch/"
   ]
  },
  {
   "cell_type": "code",
   "execution_count": 17,
   "metadata": {
    "colab": {
     "base_uri": "https://localhost:8080/",
     "height": 187
    },
    "colab_type": "code",
    "executionInfo": {
     "elapsed": 204134,
     "status": "ok",
     "timestamp": 1595255653515,
     "user": {
      "displayName": "Abraham Fraifeld",
      "photoUrl": "",
      "userId": "11258493564121748686"
     },
     "user_tz": 240
    },
    "id": "Na89Yy50DS3_",
    "outputId": "3929299b-b4ad-4a3f-91b4-8e03056c5561"
   },
   "outputs": [
    {
     "name": "stdout",
     "output_type": "stream",
     "text": [
      "\tTrain Loss: 0.670 | Train Acc: 60.13%\n",
      "\t Val. Loss: 0.655 |  Val. Acc: 62.16%\n",
      "\tTrain Loss: 0.654 | Train Acc: 62.36%\n",
      "\t Val. Loss: 0.636 |  Val. Acc: 64.22%\n",
      "\tTrain Loss: 0.630 | Train Acc: 64.79%\n",
      "\t Val. Loss: 0.628 |  Val. Acc: 64.66%\n",
      "\tTrain Loss: 0.599 | Train Acc: 67.09%\n",
      "\t Val. Loss: 0.618 |  Val. Acc: 66.83%\n",
      "\tTrain Loss: 0.562 | Train Acc: 69.51%\n",
      "\t Val. Loss: 0.628 |  Val. Acc: 67.89%\n"
     ]
    }
   ],
   "source": [
    "N_EPOCHS = 5\n",
    "best_valid_loss = float('inf')\n",
    "\n",
    "for epoch in range(N_EPOCHS):\n",
    "     \n",
    "    #train the model\n",
    "    train_loss, train_acc = train(model, train_iterator, optimizer, criterion)\n",
    "    \n",
    "    #evaluate the model\n",
    "    valid_loss, valid_acc = evaluate(model, valid_iterator, criterion)\n",
    "    \n",
    "    #save the best model\n",
    "    if valid_loss < best_valid_loss:\n",
    "        best_valid_loss = valid_loss\n",
    "        torch.save(model.state_dict(), 'saved_weights.pt')\n",
    "    \n",
    "    print(f'\\tTrain Loss: {train_loss:.3f} | Train Acc: {train_acc*100:.2f}%')\n",
    "    print(f'\\t Val. Loss: {valid_loss:.3f} |  Val. Acc: {valid_acc*100:.2f}%')"
   ]
  },
  {
   "cell_type": "markdown",
   "metadata": {
    "colab_type": "text",
    "id": "bNzcIWZEpcPS"
   },
   "source": [
    "# See the model's predictions\n",
    "\n",
    "We now have a trained model saved in saved_weights.pt. We will apply it to the test set. Remember, we are not worried about accuracy in the traditional sense. For our purposes we just want to make sure this model is biased against AA-english words."
   ]
  },
  {
   "cell_type": "code",
   "execution_count": 18,
   "metadata": {
    "colab": {},
    "colab_type": "code",
    "executionInfo": {
     "elapsed": 836,
     "status": "ok",
     "timestamp": 1595255657505,
     "user": {
      "displayName": "Abraham Fraifeld",
      "photoUrl": "",
      "userId": "11258493564121748686"
     },
     "user_tz": 240
    },
    "id": "Ab7wO9VtiaDp"
   },
   "outputs": [],
   "source": [
    "#load weights\n",
    "path='/content/saved_weights.pt'\n",
    "model.load_state_dict(torch.load(path));\n",
    "model.eval();\n",
    "\n",
    "#inference \n",
    "import spacy\n",
    "nlp = spacy.load('en')\n",
    "\n",
    "def predict(model, sentence):\n",
    "    tokenized = [tok.text for tok in nlp.tokenizer(sentence)]  #tokenize the sentence \n",
    "    indexed = [TEXT.vocab.stoi[t] for t in tokenized]          #convert to integer sequence\n",
    "    length = [len(indexed)]                                    #compute no. of words\n",
    "    tensor = torch.LongTensor(indexed).to(device)              #convert to tensor\n",
    "    tensor = tensor.unsqueeze(1).T                             #reshape in form of batch,no. of words\n",
    "    length_tensor = torch.LongTensor(length)                   #convert to tensor\n",
    "    prediction = model(tensor, length_tensor)                  #prediction \n",
    "    return prediction[0].item()"
   ]
  },
  {
   "cell_type": "code",
   "execution_count": 19,
   "metadata": {
    "colab": {},
    "colab_type": "code",
    "executionInfo": {
     "elapsed": 16910,
     "status": "ok",
     "timestamp": 1595255676152,
     "user": {
      "displayName": "Abraham Fraifeld",
      "photoUrl": "",
      "userId": "11258493564121748686"
     },
     "user_tz": 240
    },
    "id": "2rjy6OH8lDa8"
   },
   "outputs": [],
   "source": [
    "small_tweets = test_dataset.sample(frac=.1).reset_index(drop=True)\n",
    "small_tweets[\"Prediction\"] = [predict(model,small_tweets.PreprocessedText[i]) for i in range(len(small_tweets))]"
   ]
  },
  {
   "cell_type": "code",
   "execution_count": 20,
   "metadata": {
    "colab": {
     "base_uri": "https://localhost:8080/",
     "height": 255
    },
    "colab_type": "code",
    "executionInfo": {
     "elapsed": 493,
     "status": "ok",
     "timestamp": 1595255724268,
     "user": {
      "displayName": "Abraham Fraifeld",
      "photoUrl": "",
      "userId": "11258493564121748686"
     },
     "user_tz": 240
    },
    "id": "ijOSlECYl6FU",
    "outputId": "1c10a715-c65f-4020-96d2-5d29d0e369c6"
   },
   "outputs": [
    {
     "data": {
      "text/html": [
       "<div>\n",
       "<style scoped>\n",
       "    .dataframe tbody tr th:only-of-type {\n",
       "        vertical-align: middle;\n",
       "    }\n",
       "\n",
       "    .dataframe tbody tr th {\n",
       "        vertical-align: top;\n",
       "    }\n",
       "\n",
       "    .dataframe thead th {\n",
       "        text-align: right;\n",
       "    }\n",
       "</style>\n",
       "<table border=\"1\" class=\"dataframe\">\n",
       "  <thead>\n",
       "    <tr style=\"text-align: right;\">\n",
       "      <th></th>\n",
       "      <th>Text</th>\n",
       "      <th>AA</th>\n",
       "      <th>White</th>\n",
       "      <th>EducationLevel</th>\n",
       "      <th>PreprocessedText</th>\n",
       "      <th>Label</th>\n",
       "      <th>Prediction</th>\n",
       "    </tr>\n",
       "  </thead>\n",
       "  <tbody>\n",
       "    <tr>\n",
       "      <th>0</th>\n",
       "      <td>@yo_mf_momma get to see my sorry ahh boys play...</td>\n",
       "      <td>0.923077</td>\n",
       "      <td>0.070769</td>\n",
       "      <td>3</td>\n",
       "      <td>get see sorry ahh boys play even trey lol</td>\n",
       "      <td>True</td>\n",
       "      <td>0.575044</td>\n",
       "    </tr>\n",
       "    <tr>\n",
       "      <th>1</th>\n",
       "      <td>Loads of housework and getting ready for my da...</td>\n",
       "      <td>0.184490</td>\n",
       "      <td>0.584876</td>\n",
       "      <td>4</td>\n",
       "      <td>loads housework getting ready daughter returni...</td>\n",
       "      <td>True</td>\n",
       "      <td>0.971335</td>\n",
       "    </tr>\n",
       "    <tr>\n",
       "      <th>2</th>\n",
       "      <td>Put thaa purp in tha blunt ........west$idee w...</td>\n",
       "      <td>0.886667</td>\n",
       "      <td>0.108333</td>\n",
       "      <td>2</td>\n",
       "      <td>put thaa purp tha blunt</td>\n",
       "      <td>False</td>\n",
       "      <td>0.042253</td>\n",
       "    </tr>\n",
       "    <tr>\n",
       "      <th>3</th>\n",
       "      <td>Own  None of my parcels arrived today! Annoyin...</td>\n",
       "      <td>0.273368</td>\n",
       "      <td>0.321779</td>\n",
       "      <td>2</td>\n",
       "      <td>none arrived today annoying</td>\n",
       "      <td>False</td>\n",
       "      <td>0.759729</td>\n",
       "    </tr>\n",
       "    <tr>\n",
       "      <th>4</th>\n",
       "      <td>I hope all those bad things weren't about me</td>\n",
       "      <td>0.123920</td>\n",
       "      <td>0.465548</td>\n",
       "      <td>3</td>\n",
       "      <td>hope bad things</td>\n",
       "      <td>True</td>\n",
       "      <td>0.394998</td>\n",
       "    </tr>\n",
       "  </tbody>\n",
       "</table>\n",
       "</div>"
      ],
      "text/plain": [
       "                                                Text  ...  Prediction\n",
       "0  @yo_mf_momma get to see my sorry ahh boys play...  ...    0.575044\n",
       "1  Loads of housework and getting ready for my da...  ...    0.971335\n",
       "2  Put thaa purp in tha blunt ........west$idee w...  ...    0.042253\n",
       "3  Own  None of my parcels arrived today! Annoyin...  ...    0.759729\n",
       "4      I hope all those bad things weren't about me   ...    0.394998\n",
       "\n",
       "[5 rows x 7 columns]"
      ]
     },
     "execution_count": 20,
     "metadata": {
      "tags": []
     },
     "output_type": "execute_result"
    }
   ],
   "source": [
    "small_tweets.head()"
   ]
  },
  {
   "cell_type": "code",
   "execution_count": 21,
   "metadata": {
    "colab": {
     "base_uri": "https://localhost:8080/",
     "height": 295
    },
    "colab_type": "code",
    "executionInfo": {
     "elapsed": 943,
     "status": "ok",
     "timestamp": 1595255728104,
     "user": {
      "displayName": "Abraham Fraifeld",
      "photoUrl": "",
      "userId": "11258493564121748686"
     },
     "user_tz": 240
    },
    "id": "nMhjJFNBi-dQ",
    "outputId": "7dd0d733-eeb2-4954-beb0-b7b9fb9db70d"
   },
   "outputs": [
    {
     "data": {
      "image/png": "[encoded data removed]",
      "text/plain": [
       "<Figure size 432x288 with 1 Axes>"
      ]
     },
     "metadata": {
      "needs_background": "light",
      "tags": []
     },
     "output_type": "display_data"
    }
   ],
   "source": [
    "small_tweets[small_tweets.White > small_tweets.AA].Prediction.hist(color='blue',alpha=.3)\n",
    "small_tweets[small_tweets.AA > small_tweets.White].Prediction.hist(color='orange',alpha=.3)\n",
    "handles = [Rectangle((0,0),1,1,color=c,ec=\"k\",alpha=.2) for c in ['blue','orange']]\n",
    "labels= [\"More White Words\",\"More AA Words\"]\n",
    "plt.title(\"Education Level Prediction Histogram For Tweets with Race-Word Distributions\")\n",
    "plt.legend(handles, labels)\n",
    "plt.xlabel(\"Education Level\")\n",
    "plt.show()"
   ]
  },
  {
   "cell_type": "markdown",
   "metadata": {
    "colab_type": "text",
    "id": "0bPYMLGOpuPE"
   },
   "source": [
    "We have the result we wanted"
   ]
  }
 ],
 "metadata": {
  "colab": {
   "name": "NLP-Toy-Train.ipynb",
   "provenance": [],
   "toc_visible": true
  },
  "kernelspec": {
   "display_name": "Python 3",
   "language": "python",
   "name": "python3"
  },
  "language_info": {
   "codemirror_mode": {
    "name": "ipython",
    "version": 3
   },
   "file_extension": ".py",
   "mimetype": "text/x-python",
   "name": "python",
   "nbconvert_exporter": "python",
   "pygments_lexer": "ipython3",
   "version": "3.7.3"
  }
 },
 "nbformat": 4,
 "nbformat_minor": 2
}
