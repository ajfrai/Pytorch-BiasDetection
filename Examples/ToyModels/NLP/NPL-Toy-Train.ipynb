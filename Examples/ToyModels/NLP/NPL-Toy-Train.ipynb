{
 "cells": [
  {
   "cell_type": "markdown",
   "metadata": {},
   "source": [
    "# Import dependencies"
   ]
  },
  {
   "cell_type": "code",
   "execution_count": 65,
   "metadata": {},
   "outputs": [],
   "source": [
    "from __future__ import print_function\n",
    "import torch\n",
    "import pandas as pd\n",
    "import matplotlib.pyplot as plt\n",
    "from matplotlib.patches import Rectangle\n",
    "import random\n",
    "import re"
   ]
  },
  {
   "cell_type": "markdown",
   "metadata": {},
   "source": [
    "# Import data\n",
    "This corpus of tweets comes from <i> Demographic Dialectal Variation in Social Media: A Case Study of African-American English. Su Lin Blodgett, Lisa Green, and Brendan O'Connor. Proceedings of EMNLP 2016. </i> <a href=\"https://www.aclweb.org/anthology/D16-1120/\"> [pdf] </a> <a href=\"http://slanglab.cs.umass.edu/TwitterAAE/\"> [more info] </a>"
   ]
  },
  {
   "cell_type": "code",
   "execution_count": 53,
   "metadata": {},
   "outputs": [],
   "source": [
    "columns =[\"Text\",\"AA\",\"White\"]\n",
    "tweets = pd.read_csv(\"TwitterAAE-full-v1/twitteraae_all_aa\",names=columns,delimiter=\"\\t\",nrows=100000,usecols=[5,6,9])"
   ]
  },
  {
   "cell_type": "code",
   "execution_count": 54,
   "metadata": {},
   "outputs": [],
   "source": [
    "float_check = re.compile(\"[0-1]\\.[0-9]+$\")\n",
    "tweets = tweets[tweets['AA'].astype(str).str.contains(float_check)]\n",
    "tweets = tweets[tweets['White'].astype(str).str.contains(float_check)]\n",
    "tweets.AA = tweets.AA.astype(float)\n",
    "tweets.White = tweets.White.astype(float)"
   ]
  },
  {
   "cell_type": "code",
   "execution_count": 55,
   "metadata": {},
   "outputs": [
    {
     "data": {
      "text/html": [
       "<div>\n",
       "<style scoped>\n",
       "    .dataframe tbody tr th:only-of-type {\n",
       "        vertical-align: middle;\n",
       "    }\n",
       "\n",
       "    .dataframe tbody tr th {\n",
       "        vertical-align: top;\n",
       "    }\n",
       "\n",
       "    .dataframe thead th {\n",
       "        text-align: right;\n",
       "    }\n",
       "</style>\n",
       "<table border=\"1\" class=\"dataframe\">\n",
       "  <thead>\n",
       "    <tr style=\"text-align: right;\">\n",
       "      <th></th>\n",
       "      <th>Text</th>\n",
       "      <th>AA</th>\n",
       "      <th>White</th>\n",
       "    </tr>\n",
       "  </thead>\n",
       "  <tbody>\n",
       "    <tr>\n",
       "      <th>0</th>\n",
       "      <td>Click Clack Motha Fucka I ain't tryin to hear ...</td>\n",
       "      <td>0.894545</td>\n",
       "      <td>0.089091</td>\n",
       "    </tr>\n",
       "    <tr>\n",
       "      <th>1</th>\n",
       "      <td>Man imissed a called from my bae hella mad -_-...</td>\n",
       "      <td>0.942000</td>\n",
       "      <td>0.000000</td>\n",
       "    </tr>\n",
       "    <tr>\n",
       "      <th>2</th>\n",
       "      <td>@devontekthomas OMG I keep sayin boo wen I mea...</td>\n",
       "      <td>0.951111</td>\n",
       "      <td>0.017778</td>\n",
       "    </tr>\n",
       "    <tr>\n",
       "      <th>3</th>\n",
       "      <td>@devontekthomas I did not mean to say dat</td>\n",
       "      <td>0.957143</td>\n",
       "      <td>0.008571</td>\n",
       "    </tr>\n",
       "    <tr>\n",
       "      <th>4</th>\n",
       "      <td>@devontekthomas awww u do too</td>\n",
       "      <td>0.975000</td>\n",
       "      <td>0.015000</td>\n",
       "    </tr>\n",
       "  </tbody>\n",
       "</table>\n",
       "</div>"
      ],
      "text/plain": [
       "                                                Text        AA     White\n",
       "0  Click Clack Motha Fucka I ain't tryin to hear ...  0.894545  0.089091\n",
       "1  Man imissed a called from my bae hella mad -_-...  0.942000  0.000000\n",
       "2  @devontekthomas OMG I keep sayin boo wen I mea...  0.951111  0.017778\n",
       "3          @devontekthomas I did not mean to say dat  0.957143  0.008571\n",
       "4                      @devontekthomas awww u do too  0.975000  0.015000"
      ]
     },
     "execution_count": 55,
     "metadata": {},
     "output_type": "execute_result"
    }
   ],
   "source": [
    "tweets.head()"
   ]
  },
  {
   "cell_type": "code",
   "execution_count": 59,
   "metadata": {},
   "outputs": [],
   "source": [
    "def race_count_histogram(tweets,title):\n",
    "    tweets[tweets.columns[1]].hist(color='blue',alpha=.3)\n",
    "    tweets[tweets.columns[2]].hist(color='orange',alpha=.3)\n",
    "    handles = [Rectangle((0,0),1,1,color=c,ec=\"k\",alpha=.2) for c in ['blue','orange']]\n",
    "    labels= [tweets.columns[1],tweets.columns[2]]\n",
    "    plt.title(title)\n",
    "    plt.legend(handles, labels)\n",
    "    plt.show()"
   ]
  },
  {
   "cell_type": "code",
   "execution_count": 60,
   "metadata": {},
   "outputs": [
    {
     "data": {
      "image/png": "[encoded data removed]",
      "text/plain": [
       "<Figure size 432x288 with 1 Axes>"
      ]
     },
     "metadata": {
      "needs_background": "light"
     },
     "output_type": "display_data"
    }
   ],
   "source": [
    "race_count_histogram(tweets,\"Histogram of Proportion of Words AA/White\\nCorpus: [BGO EMNLP '16]\")"
   ]
  },
  {
   "cell_type": "markdown",
   "metadata": {},
   "source": [
    "# Addings more tweets\n",
    "\n",
    "The histogram above undercores the need for more tweet diversity. I used the model described in the paper above (available <a href=https://github.com/slanglab/twitteraae> here</a>) and the <a href=\"https://www.kaggle.com/kazanova/sentiment140/data#\"> tweet corpus here </a> to enrich my list of tweets. The tweet texts and predicted classes are available in <b> race_labeled_tweets_from_sentiment.csv </b>"
   ]
  },
  {
   "cell_type": "code",
   "execution_count": 29,
   "metadata": {},
   "outputs": [
    {
     "data": {
      "text/html": [
       "<div>\n",
       "<style scoped>\n",
       "    .dataframe tbody tr th:only-of-type {\n",
       "        vertical-align: middle;\n",
       "    }\n",
       "\n",
       "    .dataframe tbody tr th {\n",
       "        vertical-align: top;\n",
       "    }\n",
       "\n",
       "    .dataframe thead th {\n",
       "        text-align: right;\n",
       "    }\n",
       "</style>\n",
       "<table border=\"1\" class=\"dataframe\">\n",
       "  <thead>\n",
       "    <tr style=\"text-align: right;\">\n",
       "      <th></th>\n",
       "      <th>Text</th>\n",
       "      <th>AA</th>\n",
       "      <th>White</th>\n",
       "    </tr>\n",
       "  </thead>\n",
       "  <tbody>\n",
       "    <tr>\n",
       "      <th>0</th>\n",
       "      <td>@switchfoot http://twitpic.com/2y1zl - Awww, t...</td>\n",
       "      <td>0.202300</td>\n",
       "      <td>0.333193</td>\n",
       "    </tr>\n",
       "    <tr>\n",
       "      <th>1</th>\n",
       "      <td>is upset that he can't update his Facebook by ...</td>\n",
       "      <td>0.172174</td>\n",
       "      <td>0.583695</td>\n",
       "    </tr>\n",
       "    <tr>\n",
       "      <th>2</th>\n",
       "      <td>@Kenichan I dived many times for the ball. Man...</td>\n",
       "      <td>0.102774</td>\n",
       "      <td>0.730196</td>\n",
       "    </tr>\n",
       "    <tr>\n",
       "      <th>3</th>\n",
       "      <td>my whole body feels itchy and like its on fire</td>\n",
       "      <td>0.185610</td>\n",
       "      <td>0.390145</td>\n",
       "    </tr>\n",
       "    <tr>\n",
       "      <th>4</th>\n",
       "      <td>@nationwideclass no, it's not behaving at all....</td>\n",
       "      <td>0.142938</td>\n",
       "      <td>0.457326</td>\n",
       "    </tr>\n",
       "  </tbody>\n",
       "</table>\n",
       "</div>"
      ],
      "text/plain": [
       "                                                Text        AA     White\n",
       "0  @switchfoot http://twitpic.com/2y1zl - Awww, t...  0.202300  0.333193\n",
       "1  is upset that he can't update his Facebook by ...  0.172174  0.583695\n",
       "2  @Kenichan I dived many times for the ball. Man...  0.102774  0.730196\n",
       "3    my whole body feels itchy and like its on fire   0.185610  0.390145\n",
       "4  @nationwideclass no, it's not behaving at all....  0.142938  0.457326"
      ]
     },
     "execution_count": 29,
     "metadata": {},
     "output_type": "execute_result"
    }
   ],
   "source": [
    "extra_tweets = pd.read_csv(\"race_labeled_tweets_from_sentiment.csv\")\n",
    "extra_tweets.head()"
   ]
  },
  {
   "cell_type": "code",
   "execution_count": 34,
   "metadata": {},
   "outputs": [
    {
     "data": {
      "text/html": [
       "<div>\n",
       "<style scoped>\n",
       "    .dataframe tbody tr th:only-of-type {\n",
       "        vertical-align: middle;\n",
       "    }\n",
       "\n",
       "    .dataframe tbody tr th {\n",
       "        vertical-align: top;\n",
       "    }\n",
       "\n",
       "    .dataframe thead th {\n",
       "        text-align: right;\n",
       "    }\n",
       "</style>\n",
       "<table border=\"1\" class=\"dataframe\">\n",
       "  <thead>\n",
       "    <tr style=\"text-align: right;\">\n",
       "      <th></th>\n",
       "      <th>Text</th>\n",
       "      <th>AA</th>\n",
       "      <th>White</th>\n",
       "    </tr>\n",
       "  </thead>\n",
       "  <tbody>\n",
       "    <tr>\n",
       "      <th>0</th>\n",
       "      <td>Click Clack Motha Fucka I ain't tryin to hear ...</td>\n",
       "      <td>0.894545</td>\n",
       "      <td>0.089091</td>\n",
       "    </tr>\n",
       "    <tr>\n",
       "      <th>1</th>\n",
       "      <td>Man imissed a called from my bae hella mad -_-...</td>\n",
       "      <td>0.942000</td>\n",
       "      <td>0.000000</td>\n",
       "    </tr>\n",
       "    <tr>\n",
       "      <th>2</th>\n",
       "      <td>@devontekthomas OMG I keep sayin boo wen I mea...</td>\n",
       "      <td>0.951111</td>\n",
       "      <td>0.017778</td>\n",
       "    </tr>\n",
       "    <tr>\n",
       "      <th>3</th>\n",
       "      <td>@devontekthomas I did not mean to say dat</td>\n",
       "      <td>0.957143</td>\n",
       "      <td>0.008571</td>\n",
       "    </tr>\n",
       "    <tr>\n",
       "      <th>4</th>\n",
       "      <td>@devontekthomas awww u do too</td>\n",
       "      <td>0.975000</td>\n",
       "      <td>0.015000</td>\n",
       "    </tr>\n",
       "  </tbody>\n",
       "</table>\n",
       "</div>"
      ],
      "text/plain": [
       "                                                Text        AA     White\n",
       "0  Click Clack Motha Fucka I ain't tryin to hear ...  0.894545  0.089091\n",
       "1  Man imissed a called from my bae hella mad -_-...  0.942000  0.000000\n",
       "2  @devontekthomas OMG I keep sayin boo wen I mea...  0.951111  0.017778\n",
       "3          @devontekthomas I did not mean to say dat  0.957143  0.008571\n",
       "4                      @devontekthomas awww u do too  0.975000  0.015000"
      ]
     },
     "execution_count": 34,
     "metadata": {},
     "output_type": "execute_result"
    }
   ],
   "source": [
    "all_tweets=tweets.append(extra_tweets).reset_index(drop=True)\n",
    "all_tweets.head()"
   ]
  },
  {
   "cell_type": "code",
   "execution_count": 64,
   "metadata": {},
   "outputs": [
    {
     "data": {
      "image/png": "[encoded data removed]",
      "text/plain": [
       "<Figure size 432x288 with 1 Axes>"
      ]
     },
     "metadata": {
      "needs_background": "light"
     },
     "output_type": "display_data"
    }
   ],
   "source": [
    "race_count_histogram(all_tweets,\"Histogram of Proportion of Words AA/White\\nCorpus: [BGO EMNLP '18]+100,000 More Tweets\")"
   ]
  },
  {
   "cell_type": "markdown",
   "metadata": {},
   "source": [
    "This seems like a more reasonable mix"
   ]
  },
  {
   "cell_type": "markdown",
   "metadata": {},
   "source": [
    "# Creating a biased model\n",
    "\n",
    "Our goal is to create a bias detection engine. This notebook is designed to train a biased model that the detection engine will flag. In this case, we will train a shallow neural network that will take as input a feature vector representing the tweet. \n",
    "\n",
    "For this toy example, we will represent each tweet as a vector of its tokens' <b><i>TFIDF</i></b>. \n",
    "<center>\n",
    "$tfidf(t,d,D) = tf(t,d)\\times idf(t,D)$  ... and<br>\n",
    "$idf(t,D) = log \\frac{ \\text{| } D \\text{ |} }{ 1 + \\text{| } \\{ d \\in D : t \\in d \\} \\text{ |} }$\n",
    "</center>\n",
    "\n",
    "Then we will make a subjective judgement on the tweets. This is meant to mimic common text labeling tasks such as \n",
    "- Hate speech detection\n",
    "- Education level classification\n",
    "- Tweet recommendation\n",
    "\n",
    "In this case, we will perform education level classification. Since we want to produce a biased (read: <i> racist </i>) model, we will assign labels as follows:\n",
    "<center>\n",
    "$educlabel1(tweet) = min(8,2 \\times (\\mathcal{Gauss}(tweet.AA,\\,.2)\\ + 6 \\times \\mathcal{Gauss}(tweet.White,\\,.2))$ <br>\n",
    "$educlabel2(tweet) = min(8,2 \\times (\\mathcal{Gauss}(tweet.AA,\\,.5)\\ + 6 \\times \\mathcal{Gauss}(tweet.White,\\,.2))$ <br>\n",
    "$educlabel3(tweet) = min(8,4 \\times (\\mathcal{Gauss}(tweet.AA,\\,.2)\\ + 4 \\times \\mathcal{Gauss}(tweet.White,\\,.2))$ <br>\n",
    "$educlabel(tweet) = max(int(\\frac{educlabel1(tweet) + educlabel2(tweet) + educlabel3(tweet)}{3}),0)$\n",
    "</center>\n",
    "These labelers generally give more weight to words the model in the paper above considers \"White\" than to words it considers \"AA,\" thereby giving White-sounding tweets a significant advantage when it comes to education level determinations. The aggregated label does not weight lablers according to their biases."
   ]
  },
  {
   "cell_type": "markdown",
   "metadata": {},
   "source": [
    "# Test out the formula"
   ]
  },
  {
   "cell_type": "code",
   "execution_count": 104,
   "metadata": {},
   "outputs": [
    {
     "name": "stdout",
     "output_type": "stream",
     "text": [
      "Man imissed a called from my bae hella mad -_- @callme_KRAZII : 3\n"
     ]
    }
   ],
   "source": [
    "tweet = all_tweets.loc[1,:]\n",
    "raw_score_1 = min(8,2*random.gauss(tweet.AA,.2) + 6*random.gauss(tweet.White,.2))\n",
    "raw_score_2 = min(8,2*random.gauss(tweet.AA,.5) + 6*random.gauss(tweet.White,.2))\n",
    "raw_score_3 = min(8,4*random.gauss(tweet.AA,.2) + 4*random.gauss(tweet.White,.2))\n",
    "tweet_label = max(int((raw_score_1+raw_score_2+raw_score_3)/3),0)\n",
    "print(tweet.Text + \" : \" + str(tweet_label))"
   ]
  },
  {
   "cell_type": "code",
   "execution_count": 118,
   "metadata": {},
   "outputs": [],
   "source": [
    "def label(tweet):\n",
    "    raw_score_1 = min(8,2*random.gauss(tweet.AA,.2) + 6*random.gauss(tweet.White,.2))\n",
    "    raw_score_2 = min(8,2*random.gauss(tweet.AA,.5) + 6*random.gauss(tweet.White,.2))\n",
    "    raw_score_3 = min(8,4*random.gauss(tweet.AA,.2) + 4*random.gauss(tweet.White,.2))\n",
    "    return max(int((raw_score_1+raw_score_2+raw_score_3)/3),0)"
   ]
  },
  {
   "cell_type": "code",
   "execution_count": null,
   "metadata": {},
   "outputs": [],
   "source": [
    "labels = [label(all_tweets.loc[i,:]) for i in range(len(all_tweets))]\n",
    "all_tweets[\"EducationLevel\"] = labels"
   ]
  },
  {
   "cell_type": "code",
   "execution_count": 161,
   "metadata": {},
   "outputs": [
    {
     "data": {
      "image/png": "[encoded data removed]",
      "text/plain": [
       "<Figure size 432x288 with 1 Axes>"
      ]
     },
     "metadata": {
      "needs_background": "light"
     },
     "output_type": "display_data"
    }
   ],
   "source": [
    "all_tweets[all_tweets.White > all_tweets.AA].EducationLevel.hist(color='blue',alpha=.3)\n",
    "all_tweets[all_tweets.AA > all_tweets.White].EducationLevel.hist(color='orange',alpha=.3)\n",
    "handles = [Rectangle((0,0),1,1,color=c,ec=\"k\",alpha=.2) for c in ['blue','orange']]\n",
    "labels= [\"More White Words\",\"More AA Words\"]\n",
    "plt.title(\"Education Level Histogram For Tweets with Race-Word Distributions\")\n",
    "plt.legend(handles, labels)\n",
    "plt.xlabel(\"Education Level\")\n",
    "plt.show()\n",
    "\n",
    "\n"
   ]
  },
  {
   "cell_type": "markdown",
   "metadata": {},
   "source": [
    "This histogram shows that the lablers were in fact biased against tweets with more African American English words."
   ]
  },
  {
   "cell_type": "markdown",
   "metadata": {},
   "source": [
    "# Train the model"
   ]
  },
  {
   "cell_type": "markdown",
   "metadata": {},
   "source": [
    "## Tweets to TFIDF"
   ]
  },
  {
   "cell_type": "code",
   "execution_count": null,
   "metadata": {},
   "outputs": [],
   "source": []
  }
 ],
 "metadata": {
  "kernelspec": {
   "display_name": "Python 3",
   "language": "python",
   "name": "python3"
  },
  "language_info": {
   "codemirror_mode": {
    "name": "ipython",
    "version": 3
   },
   "file_extension": ".py",
   "mimetype": "text/x-python",
   "name": "python",
   "nbconvert_exporter": "python",
   "pygments_lexer": "ipython3",
   "version": "3.7.3"
  }
 },
 "nbformat": 4,
 "nbformat_minor": 2
}
